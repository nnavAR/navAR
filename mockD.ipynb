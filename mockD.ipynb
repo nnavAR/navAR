{
 "cells": [
  {
   "cell_type": "code",
   "execution_count": null,
   "id": "8da701c8-84cf-43b8-9c0d-3d0b4fa3bd86",
   "metadata": {},
   "outputs": [
    {
     "name": "stdout",
     "output_type": "stream",
     "text": [
      " * Serving Flask app '__main__'\n",
      " * Debug mode: off\n"
     ]
    },
    {
     "name": "stderr",
     "output_type": "stream",
     "text": [
      "WARNING: This is a development server. Do not use it in a production deployment. Use a production WSGI server instead.\n",
      " * Running on all addresses (0.0.0.0)\n",
      " * Running on http://127.0.0.1:5000\n",
      " * Running on http://150.140.142.94:5000\n",
      "Press CTRL+C to quit\n",
      "127.0.0.1 - - [31/Jul/2024 20:56:15] \"GET / HTTP/1.1\" 200 -\n",
      "127.0.0.1 - - [31/Jul/2024 20:56:15] \"GET /favicon.ico HTTP/1.1\" 404 -\n"
     ]
    }
   ],
   "source": [
    "from flask import Flask, jsonify\n",
    "\n",
    "app = Flask(__name__)\n",
    "\n",
    "@app.route('/')\n",
    "def home():\n",
    "    return \"Hello, Flask!\"\n",
    "\n",
    "@app.route('/navigation', methods=['GET'])\n",
    "def navigation():\n",
    "    mock_data = {\n",
    "        \"direction\": \"left\",\n",
    "        \"speed\": 40,\n",
    "        \"distance\": 100,\n",
    "        \"timeStamp\": \"2024-07-31T12:34:56\",\n",
    "        \"extraInfo\": {\n",
    "            \"note\": \"Turn left at the next intersection.\",\n",
    "            \"alert\": \"Slow down, sharp turn ahead!\"\n",
    "        }\n",
    "    }\n",
    "    return jsonify(mock_data)\n",
    "\n",
    "if __name__ == '__main__':\n",
    "    app.run(host='0.0.0.0', port=5000)\n"
   ]
  },
  {
   "cell_type": "code",
   "execution_count": null,
   "id": "ee319fe2-ddc4-4d06-84ef-128ab3d594b1",
   "metadata": {},
   "outputs": [],
   "source": []
  }
 ],
 "metadata": {
  "kernelspec": {
   "display_name": "Python 3 (ipykernel)",
   "language": "python",
   "name": "python3"
  },
  "language_info": {
   "codemirror_mode": {
    "name": "ipython",
    "version": 3
   },
   "file_extension": ".py",
   "mimetype": "text/x-python",
   "name": "python",
   "nbconvert_exporter": "python",
   "pygments_lexer": "ipython3",
   "version": "3.12.3"
  }
 },
 "nbformat": 4,
 "nbformat_minor": 5
}
